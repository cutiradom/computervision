{
  "nbformat": 4,
  "nbformat_minor": 0,
  "metadata": {
    "colab": {
      "provenance": []
    },
    "kernelspec": {
      "name": "python3",
      "display_name": "Python 3"
    },
    "language_info": {
      "name": "python"
    }
  },
  "cells": [
    {
      "cell_type": "code",
      "source": [
        "import numpy as np\n",
        "import cv2 as cv\n",
        "from google.colab.patches import cv2_imshow"
      ],
      "metadata": {
        "id": "2fMCOblGOzu9"
      },
      "execution_count": null,
      "outputs": []
    },
    {
      "cell_type": "code",
      "source": [
        "# Funciones\n",
        "def draw(vertices, edges, im):\n",
        "#Dibuja objeto definido por vertices y bordes\n",
        "    # Normalizar coordenadas homogeneas\n",
        "    v_h = np.array([ v[:-2]/v[-1] for v in vertices])\n",
        "    for e in edges:\n",
        "        cv.line(im, tuple(v_h[e[0]].astype(int)), tuple(v_h[e[1]].astype(int)), (255,0,15), 2)\n",
        "    for v in v_h:\n",
        "        cv.circle(im, tuple(v.astype(int)), 3, (255,0,255),-1)"
      ],
      "metadata": {
        "id": "EkJOsVJTO5X3"
      },
      "execution_count": null,
      "outputs": []
    },
    {
      "cell_type": "code",
      "source": [
        "### ---------- DEFINIR FUNCIONES ---------- ###\n",
        "def translate3d(vertex, dx, dy, dz):\n",
        "  tresd = np.array([[1,0,0,dx],[0,1,0,dy],[0,0,1,dz],[0,0,0,1]])\n",
        "  v = tresd @ vertex.T\n",
        "  return v.T"
      ],
      "metadata": {
        "id": "OzxWHiUSb5k1"
      },
      "execution_count": null,
      "outputs": []
    },
    {
      "cell_type": "code",
      "source": [
        "#Operación de traslación 3d\n",
        "def project2D(vertex, f=35):\n",
        "#Aplica una transformacion de proyeccion pinhole\n",
        "  projt = np.array([[1,0,0,0],[0,1,0,0],[0,0,1,0],[0,0,(1/f),1]])\n",
        "  v1 = projt @ vertex.T\n",
        "  return v1.T"
      ],
      "metadata": {
        "id": "vwpl27Bzb-fP"
      },
      "execution_count": null,
      "outputs": []
    },
    {
      "cell_type": "code",
      "source": [
        "### ---------- DEFINIT GEOMETRIA  ---------- ###\n",
        "# Cubo definido en su sistema coordenado\n",
        "# Lista de vertices [[x, y, z,1], ...\n",
        "# List de bordes que relacionan los indices de los vertices\n",
        "# [(0,1), (1,2), ....\n",
        "\n",
        "v = np.array([[0,100,100,1],[0,100,0,1],[100,100,0,1],[100,0,0,1],[100,0,100,1],[0,0,100,1],[0,0,0,1],[100,100,100,1]])\n",
        "edges = [(0,1),(1,2),(2,3),(3,4),(4,5),(5,0),(5,6),(1,6),(6,3),(7,4),(0,7),(7,2)]"
      ],
      "metadata": {
        "id": "b9FpC6wTO_1m"
      },
      "execution_count": null,
      "outputs": []
    },
    {
      "cell_type": "code",
      "source": [
        "### ---------- TRASLADAR CUBO A POSICION INDICADA ---------- ###\n",
        "# Parametros camara\n",
        "f = 200   # Distancia focal\n",
        "\n",
        "# Tamano imagen\n",
        "w = 500\n",
        "h = 500"
      ],
      "metadata": {
        "id": "xMpZJYYNPOu0"
      },
      "execution_count": null,
      "outputs": []
    },
    {
      "cell_type": "code",
      "execution_count": null,
      "metadata": {
        "id": "LXhgcpAsOvk6"
      },
      "outputs": [],
      "source": [
        "### ---------- PROYECTAR VERTICES ---------- ###\n",
        "# Proyectar 3D -> 2D\n",
        "vp = translate3d(v,100,200,50)\n",
        "vt = project2D(vp,f)"
      ]
    },
    {
      "cell_type": "code",
      "source": [
        "###----------  TRASLADAR PROYECCION A CENTRO DE IMAGEN ---------- ###\n",
        "\n",
        "# Dibujar y mostrar\n",
        "im = np.zeros((h,w,3), np.uint8)\n",
        "draw(vt, edges, im)\n",
        "cv2_imshow(im)\n"
      ],
      "metadata": {
        "colab": {
          "base_uri": "https://localhost:8080/",
          "height": 517
        },
        "id": "iot5bvpaPecb",
        "outputId": "6adc5a3c-f966-4910-dba1-80b848b2215f"
      },
      "execution_count": null,
      "outputs": [
        {
          "output_type": "display_data",
          "data": {
            "text/plain": [
              "<PIL.Image.Image image mode=RGB size=500x500>"
            ],
            "image/png": "[encoded data removed]"
          },
          "metadata": {}
        }
      ]
    }
  ]
}